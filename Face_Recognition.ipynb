{
  "nbformat": 4,
  "nbformat_minor": 0,
  "metadata": {
    "colab": {
      "provenance": [],
      "toc_visible": true,
      "authorship_tag": "ABX9TyOprFOdwhou2esogzNc9Nmq"
    },
    "kernelspec": {
      "name": "python3",
      "display_name": "Python 3"
    },
    "language_info": {
      "name": "python"
    }
  },
  "cells": [
    {
      "cell_type": "markdown",
      "source": [
        "# 1. Основная часть"
      ],
      "metadata": {
        "id": "Kbu-WhchlZPc"
      }
    },
    {
      "cell_type": "markdown",
      "source": [
        "## 1.1. Обзор литературы и принципы работы систем распознавания лиц"
      ],
      "metadata": {
        "id": "hPgvxnBflzNe"
      }
    },
    {
      "cell_type": "markdown",
      "source": [
        "## 1.2. Выбор и скачивание датасета"
      ],
      "metadata": {
        "id": "F0f3LG3bmmJ7"
      }
    },
    {
      "cell_type": "markdown",
      "source": [
        "## 1.3. Обучение нейросети для распознавания лиц (третий из трех этапов пайплайна) на лицах, которые уже детектированы и заалайнены;\n"
      ],
      "metadata": {
        "id": "VNNsMX5AmtSW"
      }
    },
    {
      "cell_type": "markdown",
      "source": [
        "## 1.4. Реализация метрики качества ID rate, проверка точности распознавания сетей из пунктов 1.3. и 1.4."
      ],
      "metadata": {
        "id": "rtef4S3tnN2L"
      }
    },
    {
      "cell_type": "markdown",
      "source": [
        "## 1.5. Эксперименты с разными лосс-функциями"
      ],
      "metadata": {
        "id": "RWsz6vtEna1K"
      }
    },
    {
      "cell_type": "markdown",
      "source": [
        "## 1.6. Выводы"
      ],
      "metadata": {
        "id": "DsQftvSxnjv-"
      }
    },
    {
      "cell_type": "markdown",
      "source": [
        "# 2. Дополнительная часть"
      ],
      "metadata": {
        "id": "PXyctGCMluaf"
      }
    },
    {
      "cell_type": "markdown",
      "source": [
        "## 2.1. Применение разных лосс-функций: ArcFace, TripletLoss и другие. Обучение сети"
      ],
      "metadata": {
        "id": "SNoVZPpYnsRK"
      }
    },
    {
      "cell_type": "markdown",
      "source": [
        "## 2.2. Обучить сеть для элайна фото лиц"
      ],
      "metadata": {
        "id": "Mgv9hOVkoBHK"
      }
    },
    {
      "cell_type": "markdown",
      "source": [
        "## 2.3. Обучить свою сеть для детекции лиц на фото, собрать весь пайплайн из сетей для детекции, элайна и распознавания"
      ],
      "metadata": {
        "id": "RyCyEh7doGXq"
      }
    },
    {
      "cell_type": "markdown",
      "source": [
        "## 2.4. Исследовать литературу по распознаванию лиц, сделать обзор современных улучшений. Реализовать их на выбор."
      ],
      "metadata": {
        "id": "wWOT05AtodkW"
      }
    },
    {
      "cell_type": "markdown",
      "source": [
        "## 2.5. Исследовать распределение выученных эмбеддингов лиц"
      ],
      "metadata": {
        "id": "0Tpylj-Wogpq"
      }
    }
  ]
}